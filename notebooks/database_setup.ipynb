{
 "cells": [
  {
   "cell_type": "markdown",
   "metadata": {},
   "source": [
    "# Database Setup for RAG \n",
    "\n",
    "Setting up a data store for a Retrieval-Augmented Generation (RAG) system involves some unique considerations. The most important is whether the database can store vector embeddings. The second is whether it supports native vector similarity search, or if that functionality must be handled by a separate service or module.\n",
    "\n",
    "For this project, I've selected PostrgreSQL because it:\n",
    "- Offers native vector storage and search with the `pgvector` extension \n",
    "- Meets developers where they already are — Postgres is widely adopted and familiar\n",
    "- Preserves the strengths of a relational database, such as flexible querying, indexing, and data integrity\n",
    "    -  In contrast, vector-native solutions like FAISS or Pinecone are powerful for search, but lack the full querying capabilities of traditional databases"
   ]
  },
  {
   "cell_type": "code",
   "execution_count": null,
   "metadata": {
    "vscode": {
     "languageId": "sql"
    }
   },
   "outputs": [],
   "source": [
    "-- create a database \n",
    "CREATE DATABASE resume_rag;"
   ]
  },
  {
   "cell_type": "markdown",
   "metadata": {},
   "source": [
    "Now that we have a basic database created, we need to enable `pgvector` if we want to be able to store and query vectors. "
   ]
  },
  {
   "cell_type": "code",
   "execution_count": null,
   "metadata": {
    "vscode": {
     "languageId": "sql"
    }
   },
   "outputs": [],
   "source": [
    "-- enable pgvector extrension\n",
    "CREATE EXTENSION vector; \n",
    "\n",
    "-- enable a uuid extension \n",
    "CREATE EXTENSION \"uuid-ossp\";"
   ]
  },
  {
   "cell_type": "markdown",
   "metadata": {},
   "source": [
    "Next, define the columns and data type we want present in our embeddings table"
   ]
  },
  {
   "cell_type": "code",
   "execution_count": null,
   "metadata": {
    "vscode": {
     "languageId": "sql"
    }
   },
   "outputs": [],
   "source": [
    "CREATE TABLE content_embeddings (\n",
    "    uid UUID PRIMARY KEY DEFAULT uuid_generate_v4(), \n",
    "    document_id TEXT,\n",
    "    tags TEXT[],  \n",
    "    clean_text TEXT,\n",
    "    embedding VECTOR(384)\n",
    ");"
   ]
  }
 ],
 "metadata": {
  "language_info": {
   "name": "python"
  }
 },
 "nbformat": 4,
 "nbformat_minor": 2
}
